{
 "cells": [
  {
   "cell_type": "code",
   "execution_count": 1,
   "id": "38e5cc1b",
   "metadata": {},
   "outputs": [],
   "source": [
    "from pyspark import SparkContext\n",
    "from pyspark.sql import SparkSession\n",
    "from pyspark.sql import SQLContext\n",
    "from pyspark.sql import Row\n",
    "from pyspark.sql.types import *\n",
    "from pyspark.sql.functions import *"
   ]
  },
  {
   "cell_type": "code",
   "execution_count": 2,
   "id": "50f6f413",
   "metadata": {},
   "outputs": [
    {
     "name": "stderr",
     "output_type": "stream",
     "text": [
      "Setting default log level to \"WARN\".\n",
      "To adjust logging level use sc.setLogLevel(newLevel). For SparkR, use setLogLevel(newLevel).\n"
     ]
    },
    {
     "name": "stdout",
     "output_type": "stream",
     "text": [
      "22/11/23 18:37:33 WARN NativeCodeLoader: Unable to load native-hadoop library for your platform... using builtin-java classes where applicable\n"
     ]
    }
   ],
   "source": [
    "# create spark session\n",
    "\n",
    "spark = SparkSession.builder.appName(\"test\").getOrCreate()"
   ]
  },
  {
   "cell_type": "code",
   "execution_count": 105,
   "id": "824b4b34",
   "metadata": {},
   "outputs": [],
   "source": [
    "# read data from csv file\n",
    "\n",
    "schema = StructType(\n",
    "    [\n",
    "        StructField(\"popup_name\", StringType(), True),\n",
    "        StructField(\"blog_post_url\", StringType(), True),\n",
    "        StructField(\"popup_version|start_date|popup_category\", StringType(), True),\n",
    "        StructField(\"popup_header\", StringType(), True),\n",
    "        StructField(\"popup_description\", StringType(), True),\n",
    "        StructField(\"popup_image_url\", StringType(), True),\n",
    "        StructField(\"popup_title\", StringType(), True),\n",
    "        StructField(\"views\", IntegerType(), True),\n",
    "        StructField(\"registrations\", IntegerType(), True)\n",
    "    ]\n",
    ")\n",
    "\n",
    "df = spark.read.option(\"delimiter\", \"\\t\").option(\"multiline\", \"true\") \\\n",
    "    .option(\"quote\", '\"') \\\n",
    "    .option(\"header\", \"true\") \\\n",
    "    .option(\"escape\", \"\\\\\") \\\n",
    "    .option(\"escape\", '\"') \\\n",
    "    .csv(\"data/dataset.tsv\", header=True, schema=schema) \\\n",
    "    .withColumnRenamed(\"popup_version|start_date|popup_category\", \"array_fields\")"
   ]
  },
  {
   "cell_type": "code",
   "execution_count": 106,
   "id": "c95b8ba5",
   "metadata": {},
   "outputs": [
    {
     "data": {
      "text/plain": [
       "2063"
      ]
     },
     "execution_count": 106,
     "metadata": {},
     "output_type": "execute_result"
    }
   ],
   "source": [
    "df.count()"
   ]
  },
  {
   "cell_type": "code",
   "execution_count": 107,
   "id": "18a157a8",
   "metadata": {},
   "outputs": [],
   "source": [
    "# cast array_fields to array type and explode it to get popup_version, start_date, popup_category\n",
    "\n",
    "df = df.withColumn(\"array_fields\", split(regexp_replace(\"array_fields\", \"[\\[\\]]\", \"\"), \"\\\",\\\"\")) \\\n",
    "    .withColumn(\"popup_version\", regexp_replace(col(\"array_fields\")[0], '\"', \"\")) \\\n",
    "    .withColumn(\"start_date\", regexp_replace(col(\"array_fields\")[1], '\"', \"\")) \\\n",
    "    .withColumn(\"popup_category\", regexp_replace(col(\"array_fields\")[2], '\"', \"\")) \\\n",
    "    .drop(\"array_fields\")"
   ]
  },
  {
   "cell_type": "code",
   "execution_count": 167,
   "id": "225e8b2f",
   "metadata": {},
   "outputs": [],
   "source": [
    "df0 = df.select(sum(\"views\").alias(\"total_views\"), sum(\"registrations\").alias(\"total_registrations\"))"
   ]
  },
  {
   "cell_type": "code",
   "execution_count": 168,
   "id": "17fde549",
   "metadata": {},
   "outputs": [
    {
     "name": "stdout",
     "output_type": "stream",
     "text": [
      "+-----------+-------------------+\n",
      "|total_views|total_registrations|\n",
      "+-----------+-------------------+\n",
      "|    2651866|              47432|\n",
      "+-----------+-------------------+\n",
      "\n"
     ]
    }
   ],
   "source": [
    "df0.show()"
   ]
  },
  {
   "cell_type": "code",
   "execution_count": 177,
   "id": "73ece225",
   "metadata": {},
   "outputs": [
    {
     "data": {
      "text/plain": [
       "0.01788627328831849"
      ]
     },
     "execution_count": 177,
     "metadata": {},
     "output_type": "execute_result"
    }
   ],
   "source": [
    "47432/2651866"
   ]
  },
  {
   "cell_type": "code",
   "execution_count": 185,
   "id": "05f424f9",
   "metadata": {},
   "outputs": [],
   "source": [
    "# group popup_category and get sum of views and registrations\n",
    "\n",
    "df1 = df.groupBy(\"popup_category\") \\\n",
    "    .agg(sum(\"views\").alias(\"views\"),\n",
    "         sum(\"registrations\").alias(\"registrations\"),\n",
    "         round(sum(\"registrations\") / sum(\"views\"), 3).alias(\"conversion_rate\"),\n",
    "         round(sum(\"registrations\") / 47432, 3).alias(\"registration_rate\")) \\\n",
    "    .orderBy(desc(\"registration_rate\"))\n",
    "\n",
    "# group popup_version and get sum of views and registrations\n",
    "\n",
    "df2 = df.groupBy(\"popup_version\") \\\n",
    "    .agg(sum(\"views\").alias(\"views\"),\n",
    "         sum(\"registrations\").alias(\"registrations\"),\n",
    "         round(sum(\"registrations\") / sum(\"views\"), 3).alias(\"conversion_rate\"),\n",
    "         round(sum(\"registrations\") / 47432, 3).alias(\"registration_rate\")) \\\n",
    "    .orderBy(desc(\"registration_rate\"))\n",
    "\n",
    "# group start_date and get sum of views and registrations\n",
    "\n",
    "df3 = df.groupBy(\"start_date\") \\\n",
    "    .agg(sum(\"views\").alias(\"views\"),\n",
    "         sum(\"registrations\").alias(\"registrations\"),\n",
    "         round(sum(\"registrations\") / sum(\"views\"), 3).alias(\"conversion_rate\"),\n",
    "         round(sum(\"registrations\") / 47432, 3).alias(\"registration_rate\")) \\\n",
    "    .orderBy(desc(\"registration_rate\"))\n",
    "\n",
    "# group popup_name and get sum of views and registrations\n",
    "\n",
    "df4 = df.groupBy(\"popup_name\") \\\n",
    "    .agg(sum(\"views\").alias(\"views\"),\n",
    "         sum(\"registrations\").alias(\"registrations\"),\n",
    "         round(sum(\"registrations\") / sum(\"views\"), 3).alias(\"conversion_rate\"),\n",
    "         round(sum(\"registrations\") / 47432, 3).alias(\"registration_rate\")) \\\n",
    "    .orderBy(desc(\"registration_rate\"))\n",
    "\n",
    "# group blog_post_url and get sum of views and registrations\n",
    "\n",
    "df5 = df.groupBy(\"blog_post_url\") \\\n",
    "    .agg(sum(\"views\").alias(\"views\"),\n",
    "         sum(\"registrations\").alias(\"registrations\"),\n",
    "         round(sum(\"registrations\") / sum(\"views\"), 3).alias(\"conversion_rate\"),\n",
    "         round(sum(\"registrations\") / 47432, 3).alias(\"registration_rate\")) \\\n",
    "    .orderBy(desc(\"registration_rate\"))"
   ]
  },
  {
   "cell_type": "code",
   "execution_count": 186,
   "id": "a20ed087",
   "metadata": {},
   "outputs": [
    {
     "name": "stdout",
     "output_type": "stream",
     "text": [
      "+-----------------------------------------------+------+-------------+---------------+-----------------+\n",
      "|popup_category                                 |views |registrations|conversion_rate|registration_rate|\n",
      "+-----------------------------------------------+------+-------------+---------------+-----------------+\n",
      "|Perfecting your Craft                          |845810|20685        |0.024          |0.436            |\n",
      "|generator                                      |887481|10822        |0.012          |0.228            |\n",
      "|Understanding Publishing                       |280497|8127         |0.029          |0.171            |\n",
      "|Perfecting your Craft, Understanding Publishing|52276 |1617         |0.031          |0.034            |\n",
      "|Book Design                                    |75068 |1512         |0.02           |0.032            |\n",
      "|Book Marketing, Understanding Publishing       |21833 |1120         |0.051          |0.024            |\n",
      "|discovery                                      |381038|994          |0.003          |0.021            |\n",
      "|                                               |45598 |924          |0.02           |0.019            |\n",
      "|Book Marketing                                 |19733 |623          |0.032          |0.013            |\n",
      "|Book Design, Understanding Publishing          |17682 |364          |0.021          |0.008            |\n",
      "+-----------------------------------------------+------+-------------+---------------+-----------------+\n",
      "only showing top 10 rows\n",
      "\n"
     ]
    }
   ],
   "source": [
    "df1.show(10, False)"
   ]
  },
  {
   "cell_type": "code",
   "execution_count": 187,
   "id": "7cfdee79",
   "metadata": {},
   "outputs": [
    {
     "name": "stdout",
     "output_type": "stream",
     "text": [
      "+-------------+-------+-------------+---------------+-----------------+\n",
      "|popup_version|views  |registrations|conversion_rate|registration_rate|\n",
      "+-------------+-------+-------------+---------------+-----------------+\n",
      "|             |333606 |16709        |0.05           |0.352            |\n",
      "|A            |1117711|15834        |0.014          |0.334            |\n",
      "|B            |1200549|14889        |0.012          |0.314            |\n",
      "+-------------+-------+-------------+---------------+-----------------+\n",
      "\n"
     ]
    }
   ],
   "source": [
    "df2.show(100,False)"
   ]
  },
  {
   "cell_type": "code",
   "execution_count": 193,
   "id": "fc76108d",
   "metadata": {},
   "outputs": [
    {
     "name": "stdout",
     "output_type": "stream",
     "text": [
      "+----------+------+-------------+---------------+-----------------+\n",
      "|start_date|views |registrations|conversion_rate|registration_rate|\n",
      "+----------+------+-------------+---------------+-----------------+\n",
      "|2020-06-05|690452|8246         |0.012          |0.174            |\n",
      "|2020-05-05|268394|6055         |0.023          |0.128            |\n",
      "|2019-12-13|54754 |5670         |0.104          |0.12             |\n",
      "|2020-05-06|91175 |2933         |0.032          |0.062            |\n",
      "|2019-10-22|64729 |2338         |0.036          |0.049            |\n",
      "|2019-10-16|22757 |2240         |0.098          |0.047            |\n",
      "|2020-05-01|163226|2016         |0.012          |0.043            |\n",
      "|2020-05-07|196504|2044         |0.01           |0.043            |\n",
      "|2020-05-26|213101|1687         |0.008          |0.036            |\n",
      "|2019-10-10|7511  |1141         |0.152          |0.024            |\n",
      "+----------+------+-------------+---------------+-----------------+\n",
      "only showing top 10 rows\n",
      "\n"
     ]
    }
   ],
   "source": [
    "df3.show(10,False)"
   ]
  },
  {
   "cell_type": "code",
   "execution_count": 192,
   "id": "3a44fec7",
   "metadata": {},
   "outputs": [
    {
     "name": "stdout",
     "output_type": "stream",
     "text": [
      "+-------------------------------------+------+-------------+---------------+-----------------+\n",
      "|popup_name                           |views |registrations|conversion_rate|registration_rate|\n",
      "+-------------------------------------+------+-------------+---------------+-----------------+\n",
      "|Character Profile Checklist 4        |90895 |7007         |0.077          |0.148            |\n",
      "|Learning | Writing a Novel | 2020-03 |388304|4767         |0.012          |0.101            |\n",
      "|Upgrade | Character Profile | 2020-03|281715|2989         |0.011          |0.063            |\n",
      "|Worldbuilding Template               |26901 |2058         |0.077          |0.043            |\n",
      "|Manuscript Template 2 (New Style)    |30114 |1673         |0.056          |0.035            |\n",
      "|Story Structure Template 1           |50582 |1519         |0.03           |0.032            |\n",
      "|Learning | Short Story | 2020-03     |162764|1358         |0.008          |0.029            |\n",
      "|Character Profile Checklist 3        |46228 |1351         |0.029          |0.028            |\n",
      "|Book Proposal Template 1             |8428  |1232         |0.146          |0.026            |\n",
      "|Prompts | Contest | 2020-04-b        |24332 |1162         |0.048          |0.024            |\n",
      "+-------------------------------------+------+-------------+---------------+-----------------+\n",
      "only showing top 10 rows\n",
      "\n"
     ]
    }
   ],
   "source": [
    "df4.show(10,False)"
   ]
  },
  {
   "cell_type": "code",
   "execution_count": 191,
   "id": "00faf4ec",
   "metadata": {},
   "outputs": [
    {
     "name": "stdout",
     "output_type": "stream",
     "text": [
      "+-----------------------------------------------------+-----+-------------+---------------+-----------------+\n",
      "|blog_post_url                                        |views|registrations|conversion_rate|registration_rate|\n",
      "+-----------------------------------------------------+-----+-------------+---------------+-----------------+\n",
      "|https://blog.bookly.com/character-profile/           |34069|5439         |0.16           |0.115            |\n",
      "|https://blog.bookly.com/worldbuilding-guide/         |17346|1918         |0.111          |0.04             |\n",
      "|https://blog.bookly.com/writing-contests/            |30128|1603         |0.053          |0.034            |\n",
      "|https://blog.bookly.com/how-to-write-a-novel/        |30842|1337         |0.043          |0.028            |\n",
      "|https://blog.bookly.com/how-to-write-a-book-proposal/|8267 |1176         |0.142          |0.025            |\n",
      "|https://blog.bookly.com/creative-writing-prompts/    |64225|1099         |0.017          |0.023            |\n",
      "|https://blog.bookly.com/book-title-generator/romance/|54040|1099         |0.02           |0.023            |\n",
      "|https://blog.bookly.com/manuscript-format/           |7448 |1064         |0.143          |0.022            |\n",
      "|https://blog.bookly.com/book-title-generator/fantasy/|45997|903          |0.02           |0.019            |\n",
      "|https://blog.bookly.com/author-bio/                  |11907|882          |0.074          |0.019            |\n",
      "+-----------------------------------------------------+-----+-------------+---------------+-----------------+\n",
      "only showing top 10 rows\n",
      "\n"
     ]
    }
   ],
   "source": [
    "df5.show(10,False)"
   ]
  },
  {
   "cell_type": "code",
   "execution_count": 194,
   "id": "e7a59af8",
   "metadata": {},
   "outputs": [
    {
     "data": {
      "text/plain": [
       "23"
      ]
     },
     "execution_count": 194,
     "metadata": {},
     "output_type": "execute_result"
    }
   ],
   "source": [
    "df1.select('popup_category').distinct().count()"
   ]
  },
  {
   "cell_type": "code",
   "execution_count": 198,
   "id": "be6a46be",
   "metadata": {},
   "outputs": [],
   "source": [
    "# group by all columns and get sum of views and registrations and filter by conversion_rate 1.0\n",
    "\n",
    "df6 = df.groupBy(\"popup_name\", \"blog_post_url\", \"popup_version\", \"start_date\", \"popup_category\", \"popup_header\",\n",
    "                 \"popup_description\", \"popup_image_url\", \"popup_title\") \\\n",
    "    .agg(sum(\"views\").alias(\"views\"),\n",
    "         sum(\"registrations\").alias(\"registrations\"),\n",
    "         round(sum(\"registrations\") / sum(\"views\"), 3).alias(\"conversion_rate\"),\n",
    "         round(sum(\"registrations\") / 47432, 3).alias(\"registration_rate\")) \\\n",
    "    .orderBy(desc(\"conversion_rate\")) \\\n",
    "    .filter(col(\"conversion_rate\") == 1.0)"
   ]
  },
  {
   "cell_type": "code",
   "execution_count": 201,
   "id": "44efc7f6",
   "metadata": {},
   "outputs": [
    {
     "name": "stdout",
     "output_type": "stream",
     "text": [
      "+--------------------------------------+------------------------------------------------------------------------------------+-------------+----------+------------------------+------------------------------------------------------+--------------------------------------------------------------------------------------------------------------------------------------------------+-------------------------------------------------------------------------------------------------------------------------+---------------------------------------------------------------------------------+-----+-------------+---------------+-----------------+\n",
      "|popup_name                            |blog_post_url                                                                       |popup_version|start_date|popup_category          |popup_header                                          |popup_description                                                                                                                                 |popup_image_url                                                                                                          |popup_title                                                                      |views|registrations|conversion_rate|registration_rate|\n",
      "+--------------------------------------+------------------------------------------------------------------------------------+-------------+----------+------------------------+------------------------------------------------------+--------------------------------------------------------------------------------------------------------------------------------------------------+-------------------------------------------------------------------------------------------------------------------------+---------------------------------------------------------------------------------+-----+-------------+---------------+-----------------+\n",
      "|Worldbuilding Template                |https://blog.bookly.com/worldbuilding-guide/                                        |             |2019-10-16|Perfecting your Craft   |\\nDescargar: Plantilla de construcción mundial        |Ingrese su correo electrónico para recibir el recurso de construcción mundial número 1 de bookly                                                  |https://d2ybmm5cpznb3i.cloudfront.net/wp-content/uploads/2018/10/Worldbuilding-300x150.jpg                               |Worldbuilding: the Master Guide (with Template)                                  |21   |21           |1.0            |0.0              |\n",
      "|Learning | Writing a Novel | 2020-03  |https://blog.bookly.com/character-name-generator/fantasy/elf/                       |A            |2020-06-05|generator               |Free course: How to write a novel                     |Learn the fundamentals of novel-craft with bookly&#39;s most popular online course. Get started now.                                              |https://blog-cdn.bookly.com/directories/admin/modal/68/medium_4540417c6dce90cd3db51447ff901673.jpg                       |Elf Name Generator • ULTIMATE Bank s 50 000+ menami                              |21   |21           |1.0            |0.0              |\n",
      "|bookly Book Editor Foxtrot            |https://blog.bookly.com/hemingway-app-review/                                       |B            |2020-03-13|Understanding Publishing|\\nАбсолютное бесплатное приложение для письма         |\\nПопробуйте bookly Book Editor: бесплатное приложение для письма, которое ежедневно используют тысячи авторов.                                   |https://d2ybmm5cpznb3i.cloudfront.net/wp-content/uploads/2020/02/RBE_laptop1-300x200.jpg                                 |Обзор приложения Hemingway: действительно ли это улучшит ваше письмо?            |21   |21           |1.0            |0.0              |\n",
      "|Editing Checklist 3 (New Style)       |https://blog.bookly.com/learning/courses/editing/novel-revision-understanding-craft/|B            |2020-02-27|                        |\\nFree Download: Book Editing Checklist               |\\nMake sure your book is polished to professional standards.                                                                                      |https://d2ybmm5cpznb3i.cloudfront.net/wp-content/uploads/2020/02/Checklists-5-300x157.jpg                                |Novel Revision: Understanding the Craft (Free Course) • bookly                   |21   |21           |1.0            |0.0              |\n",
      "|Character Profile Checklist 4         |https://blog.bookly.com/character-profile/                                          |             |2019-12-13|Perfecting your Craft   |\\nFree Download: Character Profile Template           |\\nDevelop your characters like a bestselling author.                                                                                              |https://d2ybmm5cpznb3i.cloudfront.net/wp-content/uploads/2018/12/Character-dev-template-1-768x384-600x300-2-1-300x150.jpg|So erstellen Sie ein Charakterprofil: die ultimative Anleitung (mit Vorlage)     |21   |21           |1.0            |0.0              |\n",
      "|Learning | Short Story | 2020-03      |https://blog.bookly.com/creative-writing-prompts/drama/                             |A            |2020-05-05|generator               |Free course: How to write a short story               |Become the next great short story writer with this course from editor Laura Mae Isaacman. Get started now.                                        |https://blog-cdn.bookly.com/directories/admin/modal/67/medium_e49f06d8dd4ef2d898ec778defe5a9fd.jpg                       |﻿﻿​Best Dramatic Writing Prompts of 2020                                         |21   |21           |1.0            |0.0              |\n",
      "|Story Structure Template 1            |https://blog.bookly.com/heros-journey/                                              |A            |2020-06-05|Perfecting your Craft   |\\nModelo gratuito: Estrutura da história em três atos |\\nDomine a estrutura da história de três atos com a ajuda do nosso modelo para download gratuito.                                                 |https://d2ybmm5cpznb3i.cloudfront.net/wp-content/uploads/2019/03/Modal-sma-300x157.jpg                                   |Hero's Journey 101: Guia de definição e passo a passo (com lista de verificação!)|21   |21           |1.0            |0.0              |\n",
      "|Story Structure Template 1            |https://blog.bookly.com/learning/courses/writing/3-act-story-structure//            |A            |2019-04-12|                        |\\nFree Template: Three-Act Story Structure            |\\nMaster the three-act story structure with the help of our free downloadable template.                                                           |https://d2ybmm5cpznb3i.cloudfront.net/wp-content/uploads/2019/03/Modal-sma-300x157.jpg                                   |How to Plot a Novel Using the 3-Act Structure (Free Course) • bookly             |21   |21           |1.0            |0.0              |\n",
      "|Upgrade | Manuscript Tempate | 2020-03|https://blog.bookly.com/learning/courses/publishing/inside-a-big-5-publisher/       |B            |2020-04-27|                        |\\nFree Download: Manuscript Formatting Template       |\\nThe simplest way to format your manuscript to industry standards. Give your submission the edge it needs.                                       |https://d2ybmm5cpznb3i.cloudfront.net/wp-content/uploads/2020/02/Checklists-7-300x157.jpg                                |Inside a Traditional ‘Big 5’ Publisher (Course)                                  |21   |21           |1.0            |0.0              |\n",
      "|Book Proposal Template 1              |https://blog.bookly.com/how-to-write-a-book-proposal/                               |             |2019-10-10|Understanding Publishing|\\nDownload grátis: modelo de proposta de livro        |\\nEnviando uma proposta? Faça o download deste modelo gratuito dos profissionais da bookly.                                                       |https://d2ybmm5cpznb3i.cloudfront.net/wp-content/uploads/2018/11/book-proposal-header-1-540x300-300x167.jpg              |How to Write a Book Proposal: a Master Guide (with Template)                     |21   |21           |1.0            |0.0              |\n",
      "|bookly Book Editor Beta (Photo 1)     |https://blog.bookly.com/createspace/                                                |B            |          |Understanding Publishing|\\nUma maneira simples e gratuita de escrever seu livro|\\nEscreva seu livro da maneira que os leitores o verão. Inscreva-se para acessar o aclamado editor de livros de bookly.                           |https://d2ybmm5cpznb3i.cloudfront.net/wp-content/uploads/2019/04/RBE-Modal-300x200.jpg                                   |CreateSpace está MORTO. Aqui está o que você precisa saber.                      |21   |21           |1.0            |0.0              |\n",
      "|Story Structure Template 1            |https://blog.bookly.com/three-act-structure/                                        |             |2019-03-06|Perfecting your Craft   |\\nModello gratuito: struttura della storia in tre atti|\\nPadroneggia la struttura della storia in tre atti con l'aiuto del nostro modello scaricabile gratuitamente.                                     |https://d2ybmm5cpznb3i.cloudfront.net/wp-content/uploads/2019/03/Modal-sma-300x157.jpg                                   |Come scrivere un romanzo usando la struttura in tre atti                         |21   |21           |1.0            |0.0              |\n",
      "|bookly Book Editor Foxtrot            |https://blog.bookly.com/learning/courses/writing/short-story/submitting-your-work/  |B            |2020-03-02|                        |\\nThe Ultimate FREE Writing App                       |\\nTry the bookly Book Editor: the free writing app used by thousands of authors every day.                                                        |https://d2ybmm5cpznb3i.cloudfront.net/wp-content/uploads/2020/02/RBE_laptop1-300x200.jpg                                 |Submitting Your Work • How to Craft a Killer Short Story                         |21   |21           |1.0            |0.0              |\n",
      "|Learning Non Fiction                  |https://blog.bookly.com/work-with-a-ghostwriter/                                    |B            |          |Understanding Publishing|\\nFree Course: How to Write Non-Fiction               |Enroll on this free 10-day publishing course.                                                                                                     |https://d2ybmm5cpznb3i.cloudfront.net/wp-content/uploads/2016/11/How-to-write-a-non-fiction-book-300x157.jpg             |What's it like to work with a ghostwriter on your memoir?                        |21   |21           |1.0            |0.0              |\n",
      "|Character Profile Checklist 4         |https://blog.bookly.com/character-profile/                                          |             |2019-12-13|Perfecting your Craft   |\\nดาวน์โหลดฟรี: เทมเพลตโปรไฟล์ตัวละคร                 |\\nพัฒนาตัวละครของคุณเหมือนนักเขียนที่ขายดีที่สุด                                                                                                  |https://d2ybmm5cpznb3i.cloudfront.net/wp-content/uploads/2018/12/Character-dev-template-1-768x384-600x300-2-1-300x150.jpg|วิธีสร้างโปรไฟล์ตัวละคร: แนวทางขั้นสุดท้าย (พร้อมเทมเพลต)                        |21   |21           |1.0            |0.0              |\n",
      "|Writing Prompts Delta                 |https://blog.bookly.com/writers-block/                                              |B            |2020-06-05|Perfecting your Craft   |\\n영감을 얻을 때까지 기다리지 마십시오                |매주 무료 필기 메시지에 가입하고 컨테스트에 참가하여 $ 50를 받으십시오.                                                                           |https://d2ybmm5cpznb3i.cloudfront.net/wp-content/uploads/2019/11/prompts_cure-300x158.jpg                                |작가의 블록을 극복하는 방법 (실제로 작동하는 20 가지 팁)                         |21   |21           |1.0            |0.0              |\n",
      "|Writing Prompts Charlie (new copy)    |https://blog.bookly.com/writing-contests/page/3//                                   |B            |2020-05-05|generator               |Enter our short story competition                     |Submit a short story based on one of 5 weekly prompts. Winners get $50 and will feature in our newsletter! Sign up to get this week&#39;s prompts.|https://blog-cdn.bookly.com/directories/admin/modal/65/medium_b04dd25b7ed163101580d72058b1d215.jpg                       |The Ultimate List of Writing Contests in 2020 • Win Cash Prizes!                 |21   |21           |1.0            |0.0              |\n",
      "|Learning | Characters | 2020-03       |https://blog.bookly.com/character-arc/                                              |A            |2020-05-07|Perfecting your Craft   |\\nCurso gratuito: desarrollo del personaje            |\\n¡Crea personajes fascinantes que a tus lectores les encantarán ... o amarán odiar! Empieza ahora.                                               |https://d2ybmm5cpznb3i.cloudfront.net/wp-content/uploads/2018/05/Character-Development-300x157.jpg                       |Cómo escribir un arco de caracteres convincente en solo 3 pasos                  |21   |21           |1.0            |0.0              |\n",
      "+--------------------------------------+------------------------------------------------------------------------------------+-------------+----------+------------------------+------------------------------------------------------+--------------------------------------------------------------------------------------------------------------------------------------------------+-------------------------------------------------------------------------------------------------------------------------+---------------------------------------------------------------------------------+-----+-------------+---------------+-----------------+\n",
      "\n"
     ]
    }
   ],
   "source": [
    "df6.show(18,False)"
   ]
  },
  {
   "cell_type": "code",
   "execution_count": null,
   "id": "a0966066",
   "metadata": {},
   "outputs": [],
   "source": []
  }
 ],
 "metadata": {
  "kernelspec": {
   "display_name": "Python 3 (ipykernel)",
   "language": "python",
   "name": "python3"
  },
  "language_info": {
   "codemirror_mode": {
    "name": "ipython",
    "version": 3
   },
   "file_extension": ".py",
   "mimetype": "text/x-python",
   "name": "python",
   "nbconvert_exporter": "python",
   "pygments_lexer": "ipython3",
   "version": "3.9.13"
  }
 },
 "nbformat": 4,
 "nbformat_minor": 5
}
